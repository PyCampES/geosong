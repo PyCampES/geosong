{
 "cells": [
  {
   "cell_type": "code",
   "execution_count": 21,
   "id": "ca3ffe0c",
   "metadata": {
    "scrolled": true
   },
   "outputs": [
    {
     "data": {
      "application/vnd.jupyter.widget-view+json": {
       "model_id": "dae9119822d2482899fccb6c0bd7503e",
       "version_major": 2,
       "version_minor": 0
      },
      "text/plain": [
       "Map(center=[41.02621495450895, -0.39550781250000006], controls=(ZoomControl(options=['position', 'zoom_in_text…"
      ]
     },
     "metadata": {},
     "output_type": "display_data"
    }
   ],
   "source": [
    "import io\n",
    "import json\n",
    "\n",
    "import geopandas\n",
    "import pandas as pd\n",
    "\n",
    "from statistics import mean\n",
    "\n",
    "from ipywidgets import HTML\n",
    "\n",
    "from ipyleaflet import Map, MarkerCluster, Marker, Popup\n",
    "\n",
    "# Load or request geojson\n",
    "# json = requests.get(\"...\").json()\n",
    "with open(\"examples/sample.geojson\") as fh:\n",
    "    json = json.load(fh)\n",
    "\n",
    "# GeoDataFrame from JSON\n",
    "gdf = geopandas.GeoDataFrame.from_features(json)\n",
    "\n",
    "#gdf.dtypes\n",
    "#geometry    geometry\n",
    "#date          object\n",
    "#username      object\n",
    "#geosong       object\n",
    "#dtype: object\n",
    "\n",
    "# Beware of the line below:\n",
    "# \"TypeError: Object of type Timestamp is not JSON serializable\"\n",
    "# gdf[\"date\"] = pd.to_datetime(gdf[\"date\"])\n",
    "\n",
    "# Center map on the mean latitude/longitude\n",
    "center = (mean(gdf.geometry.y),\n",
    "          mean(gdf.geometry.x))\n",
    "m = Map(center=center, zoom=5)\n",
    "\n",
    "# Create markers from GeoDataFrame\n",
    "# NOTE: we cannot use GeoData layer because popups do not seem to be supported\n",
    "#       see https://github.com/jupyter-widgets/ipyleaflet/issues/837\n",
    "markers = []\n",
    "for index, row in gdf.iterrows():\n",
    "    marker = Marker(location=(row.geometry.y, \n",
    "                              row.geometry.x))\n",
    "    marker.popup = HTML(value=\"<b>{}</b><br/>{}<br/>\".format(row.geosong[\"title\"], \\\n",
    "                                                             row.geosong[\"artist\"]))\n",
    "    markers.append(marker)\n",
    "\n",
    "m.add_layer(MarkerCluster(markers=markers))\n",
    "\n",
    "display(m)"
   ]
  },
  {
   "cell_type": "code",
   "execution_count": null,
   "id": "fce80474",
   "metadata": {},
   "outputs": [],
   "source": []
  }
 ],
 "metadata": {
  "kernelspec": {
   "display_name": "Python 3 (ipykernel)",
   "language": "python",
   "name": "python3"
  },
  "language_info": {
   "codemirror_mode": {
    "name": "ipython",
    "version": 3
   },
   "file_extension": ".py",
   "mimetype": "text/x-python",
   "name": "python",
   "nbconvert_exporter": "python",
   "pygments_lexer": "ipython3",
   "version": "3.9.12"
  }
 },
 "nbformat": 4,
 "nbformat_minor": 5
}
