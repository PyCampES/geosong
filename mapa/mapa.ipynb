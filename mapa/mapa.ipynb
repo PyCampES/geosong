{
 "cells": [
  {
   "cell_type": "code",
   "execution_count": 41,
   "id": "ca3ffe0c",
   "metadata": {
    "scrolled": true
   },
   "outputs": [
    {
     "data": {
      "application/vnd.jupyter.widget-view+json": {
       "model_id": "d9b9b5e94c8c48a5b21e0fe56e59c6cc",
       "version_major": 2,
       "version_minor": 0
      },
      "text/plain": [
       "Map(center=[41.02621495450895, -0.39550781250000006], controls=(ZoomControl(options=['position', 'zoom_in_text…"
      ]
     },
     "metadata": {},
     "output_type": "display_data"
    }
   ],
   "source": [
    "import io\n",
    "import json\n",
    "\n",
    "import geopandas\n",
    "import pandas as pd\n",
    "\n",
    "from statistics import mean\n",
    "\n",
    "from ipywidgets import HTML\n",
    "\n",
    "from ipyleaflet import Map, MarkerCluster, Marker, Popup, Icon\n",
    "\n",
    "# Create GeoDataFrame from geojson features\n",
    "# json = requests.get(\"...\").json()\n",
    "with open(\"../examples/sample.geojson\") as fh:\n",
    "    json = json.load(fh)\n",
    "\n",
    "gdf = geopandas.GeoDataFrame.from_features(json)\n",
    "\n",
    "# gdf.dtypes\n",
    "#geometry    geometry\n",
    "#date          object\n",
    "#username      object\n",
    "#geosong       object\n",
    "#dtype: object\n",
    "# Beware of the line below:\n",
    "# \"TypeError: Object of type Timestamp is not JSON serializable\"\n",
    "# gdf[\"date\"] = pd.to_datetime(gdf[\"date\"])\n",
    "\n",
    "# Create map centered on mean latitude/longitude \n",
    "m = Map(zoom=5, center=(mean(gdf.geometry.y),\n",
    "                        mean(gdf.geometry.x)))\n",
    "\n",
    "def create_popup(title, artist, username, date):\n",
    "    html=\"\"\"\n",
    "    <div>\n",
    "    <p><img src=\"icons8-musical-100.png\" width=\"75\" height=\"75\"></p>\n",
    "    <p><b>{0}</b><br/>{1}<br/><i><a href=\"https://twitter.com/{2}\">@{2}</a></i></p>\n",
    "    </div>\"\"\"\n",
    "    return HTML(value=html.format(title, artist, username.replace(\"@\",\"\"), date))\n",
    "\n",
    "# Create markers from GeoDataFrame\n",
    "# NOTE: GeoData layer does not support custom popups \n",
    "#       see https://github.com/jupyter-widgets/ipyleaflet/issues/837\n",
    "markers = []\n",
    "for index, row in gdf.iterrows():\n",
    "    marker = Marker(location=(row.geometry.y, row.geometry.x), \n",
    "                    min_width=300)\n",
    "    marker.popup = create_popup(row.geosong[\"title\"], \n",
    "                                row.geosong[\"artist\"],\n",
    "                                row.username,\n",
    "                                row.date)\n",
    "    markers.append(marker)\n",
    "\n",
    "m.add_layer(MarkerCluster(markers=markers))\n",
    "\n",
    "display(m)"
   ]
  },
  {
   "cell_type": "code",
   "execution_count": null,
   "id": "fce80474",
   "metadata": {},
   "outputs": [],
   "source": []
  },
  {
   "cell_type": "code",
   "execution_count": null,
   "id": "86e498d5",
   "metadata": {},
   "outputs": [],
   "source": []
  }
 ],
 "metadata": {
  "kernelspec": {
   "display_name": "Python 3 (ipykernel)",
   "language": "python",
   "name": "python3"
  },
  "language_info": {
   "codemirror_mode": {
    "name": "ipython",
    "version": 3
   },
   "file_extension": ".py",
   "mimetype": "text/x-python",
   "name": "python",
   "nbconvert_exporter": "python",
   "pygments_lexer": "ipython3",
   "version": "3.9.12"
  }
 },
 "nbformat": 4,
 "nbformat_minor": 5
}
