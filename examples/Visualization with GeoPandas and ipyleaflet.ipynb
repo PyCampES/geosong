{
 "cells": [
  {
   "cell_type": "code",
   "execution_count": 1,
   "id": "2b2901fb-fc09-4331-a9e2-082c7890c5c4",
   "metadata": {},
   "outputs": [],
   "source": [
    "import io\n",
    "import json\n",
    "\n",
    "import geopandas\n",
    "import pandas as pd\n",
    "from ipyleaflet import Map, GeoData, LayersControl"
   ]
  },
  {
   "cell_type": "code",
   "execution_count": 2,
   "id": "4336014c-aa76-4c78-9ede-5f1c4e1def49",
   "metadata": {},
   "outputs": [],
   "source": [
    "# json = requests.get(\"...\").json()\n",
    "with open(\"sample.geojson\") as fh:\n",
    "    json = json.load(fh)"
   ]
  },
  {
   "cell_type": "code",
   "execution_count": 3,
   "id": "3cf36993-a196-4a51-a940-3366dc0652b7",
   "metadata": {},
   "outputs": [
    {
     "data": {
      "text/plain": [
       "geometry    geometry\n",
       "date          object\n",
       "username      object\n",
       "geosong       object\n",
       "dtype: object"
      ]
     },
     "execution_count": 3,
     "metadata": {},
     "output_type": "execute_result"
    }
   ],
   "source": [
    "gdf = geopandas.GeoDataFrame.from_features(json)\n",
    "\n",
    "# Beware of the line below:\n",
    "# \"TypeError: Object of type Timestamp is not JSON serializable\"\n",
    "# gdf[\"date\"] = pd.to_datetime(gdf[\"date\"])\n",
    "\n",
    "gdf.dtypes"
   ]
  },
  {
   "cell_type": "code",
   "execution_count": 4,
   "id": "ad57c0dd-e6bc-4393-817c-18f8a3ca6afc",
   "metadata": {},
   "outputs": [
    {
     "data": {
      "text/plain": [
       "0    U Can't Touch This\n",
       "1             Sandstorm\n",
       "2                  Free\n",
       "3      Around the World\n",
       "4                  Liar\n",
       "5               Ecuador\n",
       "6     Lost in Hollywood\n",
       "7              Untravel\n",
       "Name: geosong, dtype: object"
      ]
     },
     "execution_count": 4,
     "metadata": {},
     "output_type": "execute_result"
    }
   ],
   "source": [
    "gdf[\"geosong\"].str.get(\"title\")"
   ]
  },
  {
   "cell_type": "code",
   "execution_count": 5,
   "id": "a3e73c5d-c90d-4f56-b9c4-4929daea4882",
   "metadata": {},
   "outputs": [
    {
     "data": {
      "text/plain": [
       "0    POINT (-3.71338 39.82541)\n",
       "1    POINT (-2.92236 40.31304)\n",
       "2    POINT (-3.66943 40.59727)\n",
       "3    POINT (-3.07617 40.14529)\n",
       "4     POINT (2.72461 41.90228)\n",
       "5     POINT (2.98828 42.04929)\n",
       "6     POINT (2.39502 42.00033)\n",
       "7     POINT (2.10938 41.37681)\n",
       "Name: geometry, dtype: geometry"
      ]
     },
     "execution_count": 5,
     "metadata": {},
     "output_type": "execute_result"
    }
   ],
   "source": [
    "gdf[\"geometry\"]"
   ]
  },
  {
   "cell_type": "code",
   "execution_count": 6,
   "id": "c59147dc-35e6-4dc1-8f99-c0a7e18c9c57",
   "metadata": {},
   "outputs": [
    {
     "data": {
      "application/vnd.jupyter.widget-view+json": {
       "model_id": "d8a428b003964a6fb04da680e2bbca20",
       "version_major": 2,
       "version_minor": 0
      },
      "text/plain": [
       "Map(center=[42.0, -1.0], controls=(ZoomControl(options=['position', 'zoom_in_text', 'zoom_in_title', 'zoom_out…"
      ]
     },
     "metadata": {},
     "output_type": "display_data"
    }
   ],
   "source": [
    "m = Map(center=(42.0, -1.0), zoom = 6)\n",
    "geo_data = GeoData(geo_dataframe = gdf)\n",
    "m.add_layer(geo_data)\n",
    "m.add_control(LayersControl())\n",
    "\n",
    "m"
   ]
  },
  {
   "cell_type": "code",
   "execution_count": null,
   "id": "69b22b83-b9a6-4f56-9454-8dd5d02c6ebb",
   "metadata": {},
   "outputs": [],
   "source": []
  }
 ],
 "metadata": {
  "kernelspec": {
   "display_name": "Python 3 (ipykernel)",
   "language": "python",
   "name": "python3"
  },
  "language_info": {
   "codemirror_mode": {
    "name": "ipython",
    "version": 3
   },
   "file_extension": ".py",
   "mimetype": "text/x-python",
   "name": "python",
   "nbconvert_exporter": "python",
   "pygments_lexer": "ipython3",
   "version": "3.10.4"
  }
 },
 "nbformat": 4,
 "nbformat_minor": 5
}
