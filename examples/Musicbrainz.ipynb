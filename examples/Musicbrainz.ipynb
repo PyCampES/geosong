{
 "cells": [
  {
   "cell_type": "code",
   "execution_count": null,
   "id": "93c5b659-f76a-4d43-9ecf-db490b76c94e",
   "metadata": {},
   "outputs": [],
   "source": [
    "from copy import deepcopy\n",
    "from collections import Counter\n",
    "import logging\n",
    "import os\n",
    "import re\n",
    "import json\n",
    "\n",
    "import musicbrainzngs"
   ]
  },
  {
   "cell_type": "code",
   "execution_count": null,
   "id": "a52aa310-aef1-4ace-9814-26b8a149423c",
   "metadata": {},
   "outputs": [],
   "source": [
    "pattern = re.compile(\n",
    "    r\".*I used [@#]?Shazam to discover (?P<title>.*) by (?P<artist>.*)\\. https.*\"\n",
    ")"
   ]
  },
  {
   "cell_type": "code",
   "execution_count": null,
   "id": "c4d95bf4-fce1-4fe5-baf7-6d75e31ac19e",
   "metadata": {},
   "outputs": [],
   "source": [
    "def filter_recordings_by_artist(work, artist_id):\n",
    "    for recording_info in work[\"recording-relation-list\"]:\n",
    "        recording = musicbrainzngs.get_recording_by_id(\n",
    "            recording_info[\"recording\"][\"id\"],\n",
    "            includes=[\"artist-credits\", \"releases\", \"tags\"],\n",
    "        )\n",
    "\n",
    "        for artist in recording[\"recording\"][\"artist-credit\"]:\n",
    "            try:\n",
    "                if artist[\"artist\"][\"id\"] == artist_id:\n",
    "                    yield recording\n",
    "                    break\n",
    "            except TypeError:\n",
    "                # Needed to avoid some weird parsing errors\n",
    "                continue"
   ]
  },
  {
   "cell_type": "code",
   "execution_count": null,
   "id": "ab0c734b-f5ca-4412-92ff-4dab26f5ab5f",
   "metadata": {},
   "outputs": [],
   "source": [
    "def get_earliest_recording_and_year(recordings):\n",
    "    min_year = year = float(\"inf\")\n",
    "    earliest_recording = None\n",
    "\n",
    "    for recording in recordings:\n",
    "        for release in recording[\"recording\"][\"release-list\"]:\n",
    "            if \"date\" in release:\n",
    "                year = int(release[\"date\"][:4])\n",
    "            if year <= min_year:\n",
    "                min_year = year\n",
    "                earliest_recording = recording\n",
    "\n",
    "    return earliest_recording, min_year"
   ]
  },
  {
   "cell_type": "code",
   "execution_count": null,
   "id": "3834d667-adef-4d57-b58e-ed6fc71f239d",
   "metadata": {},
   "outputs": [],
   "source": [
    "def get_most_likely_genre(recordings):\n",
    "    tags = Counter()\n",
    "    for recording in recordings:\n",
    "        for tag_dict in recording[\"recording\"].get(\"tag-list\", []):\n",
    "            tags[tag_dict[\"name\"]] += int(tag_dict[\"count\"])\n",
    "\n",
    "    return tags.most_common()[0][0]"
   ]
  },
  {
   "cell_type": "code",
   "execution_count": null,
   "id": "e5de45c3-a20a-489b-b8ad-4c771df83e40",
   "metadata": {},
   "outputs": [],
   "source": [
    "def musicbrainz(string):\n",
    "    musicbrainzngs.set_useragent(\"geosong\", \"2\", \"pycamp-es2022\")\n",
    "\n",
    "    song_title, artist_name = pattern.search(string).groups()\n",
    "\n",
    "    related_artists = musicbrainzngs.search_artists(artist=artist_name, type=\"group\")\n",
    "    chosen_artist = max(related_artists[\"artist-list\"], key=lambda a: int(a[\"ext:score\"]))\n",
    "\n",
    "    related_works = musicbrainzngs.search_works(song_title)\n",
    "    work = max(related_works[\"work-list\"], key=lambda w: int(w[\"ext:score\"]))\n",
    "\n",
    "    # Store in list because I will use them twice\n",
    "    possible_recordings = list(filter_recordings_by_artist(work, chosen_artist[\"id\"]))\n",
    "\n",
    "    _, year = get_earliest_recording_and_year(possible_recordings)\n",
    "    genre = get_most_likely_genre(possible_recordings)\n",
    "\n",
    "    return {\n",
    "        \"artist\": chosen_artist[\"name\"],\n",
    "        \"title\": work[\"title\"],\n",
    "        \"year\": year,\n",
    "        \"genre\": genre,\n",
    "    }"
   ]
  },
  {
   "cell_type": "code",
   "execution_count": null,
   "id": "068f7e51-c1f2-46d8-b16f-723faa142069",
   "metadata": {},
   "outputs": [],
   "source": [
    "text = (\n",
    "    'I used @Shazam to discover Yes Sir, I Can Boogie by Baccara. '\n",
    "    'https://t.co/JaCq9MNPhM'\n",
    ")"
   ]
  },
  {
   "cell_type": "code",
   "execution_count": null,
   "id": "464645f6-98da-477e-9010-d20a5f4c0738",
   "metadata": {
    "tags": []
   },
   "outputs": [],
   "source": [
    "musicbrainz(text)"
   ]
  }
 ],
 "metadata": {
  "kernelspec": {
   "display_name": "Python 3 (ipykernel)",
   "language": "python",
   "name": "python3"
  },
  "language_info": {
   "codemirror_mode": {
    "name": "ipython",
    "version": 3
   },
   "file_extension": ".py",
   "mimetype": "text/x-python",
   "name": "python",
   "nbconvert_exporter": "python",
   "pygments_lexer": "ipython3",
   "version": "3.10.4"
  }
 },
 "nbformat": 4,
 "nbformat_minor": 5
}
