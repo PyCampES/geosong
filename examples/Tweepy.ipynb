{
 "cells": [
  {
   "cell_type": "code",
   "execution_count": null,
   "id": "93c5b659-f76a-4d43-9ecf-db490b76c94e",
   "metadata": {},
   "outputs": [],
   "source": [
    "from copy import deepcopy\n",
    "import logging\n",
    "import os\n",
    "import re\n",
    "import json\n",
    "\n",
    "import tweepy\n",
    "from shapely.geometry import box, mapping"
   ]
  },
  {
   "cell_type": "code",
   "execution_count": null,
   "id": "cbc28d4b-def9-4671-a586-4b075ea66247",
   "metadata": {},
   "outputs": [],
   "source": [
    "logging.basicConfig(level=logging.INFO)\n",
    "\n",
    "logger = logging.getLogger()"
   ]
  },
  {
   "cell_type": "code",
   "execution_count": null,
   "id": "e0b77079-6409-48f5-b811-2d262a5254c8",
   "metadata": {},
   "outputs": [],
   "source": [
    "bearer_token = os.environ[\"TWITTER_BEARER_TOKEN\"]\n",
    "\n",
    "client = tweepy.Client(bearer_token=bearer_token)"
   ]
  },
  {
   "cell_type": "code",
   "execution_count": null,
   "id": "04652e85-c1a3-4139-85da-8457d6259b1c",
   "metadata": {},
   "outputs": [],
   "source": [
    "geo_tweets = []\n",
    "\n",
    "users = {}\n",
    "places = {}\n",
    "\n",
    "next_token = None"
   ]
  },
  {
   "cell_type": "code",
   "execution_count": null,
   "id": "8d24c4dd-a560-40f6-a2bb-f91eeb3c3373",
   "metadata": {
    "scrolled": true,
    "tags": []
   },
   "outputs": [],
   "source": [
    "for iteration in range(10):\n",
    "    resp = client.search_recent_tweets(\n",
    "        \"I used Shazam\",\n",
    "        max_results=100,\n",
    "        tweet_fields=[\"author_id\", \"created_at\", \"geo\"],\n",
    "        user_fields=[\"username\"],\n",
    "        place_fields=[\"geo\", \"name\", \"country\"],\n",
    "        expansions=[\"author_id\", \"geo.place_id\"],\n",
    "        next_token=next_token,\n",
    "    )\n",
    "\n",
    "    geo_tweets.extend([t for t in resp.data if t.geo])\n",
    "\n",
    "    logger.info(\"Iteration: %d\", iteration)\n",
    "    logger.debug(\"Length of geo tweets: %d\", len(geo_tweets))\n",
    "\n",
    "    users |= {\n",
    "        u.id: u\n",
    "        for u in resp.includes.get(\"users\", [])\n",
    "    }\n",
    "    places |= {\n",
    "        p.id: p\n",
    "        for p in resp.includes.get(\"places\", [])\n",
    "    }\n",
    "\n",
    "    if \"next_token\" in resp.meta:\n",
    "        next_token = resp.meta[\"next_token\"]\n",
    "    else:\n",
    "        break"
   ]
  },
  {
   "cell_type": "code",
   "execution_count": null,
   "id": "325bda6d-21b3-4246-a2fb-b2684fdc0fc5",
   "metadata": {},
   "outputs": [],
   "source": [
    "len(geo_tweets)"
   ]
  },
  {
   "cell_type": "code",
   "execution_count": null,
   "id": "0570bc9b-2e15-4cfe-8ced-487c72b25754",
   "metadata": {},
   "outputs": [],
   "source": [
    "def get_geom(place_id):\n",
    "    geom = deepcopy(places[place_id].geo)\n",
    "    return geom"
   ]
  },
  {
   "cell_type": "code",
   "execution_count": null,
   "id": "a045ded7-128f-42ab-8d4f-228f40479a9d",
   "metadata": {},
   "outputs": [],
   "source": [
    "print(json.dumps(get_geom(geo_tweets[0].geo[\"place_id\"]), indent=2))"
   ]
  },
  {
   "cell_type": "code",
   "execution_count": null,
   "id": "a60925b4-4874-48dd-b409-a2647d5e4605",
   "metadata": {},
   "outputs": [],
   "source": [
    "def get_username(user_id):\n",
    "    user = users[user_id]\n",
    "    return user.username"
   ]
  },
  {
   "cell_type": "code",
   "execution_count": null,
   "id": "ed11581b-436b-478b-95cb-ae2dffc58cf6",
   "metadata": {},
   "outputs": [],
   "source": [
    "get_username(geo_tweets[0].author_id)"
   ]
  },
  {
   "cell_type": "code",
   "execution_count": null,
   "id": "5b016efa-1743-4609-b695-11496776ed81",
   "metadata": {},
   "outputs": [],
   "source": [
    "pattern = re.compile(\n",
    "    r\".*I used [@#]?Shazam to discover (?P<title>.*) by (?P<artist>.*)\\. https.*\"\n",
    ")"
   ]
  },
  {
   "cell_type": "code",
   "execution_count": null,
   "id": "c760ac38-bafa-43da-aefc-43f8406f1c62",
   "metadata": {},
   "outputs": [],
   "source": [
    "def get_metadata(text):\n",
    "    match = pattern.search(text)\n",
    "    if not match:\n",
    "        raise ValueError(\"Cannot retrieve metadata\")\n",
    "\n",
    "    metadata = match.groupdict()\n",
    "\n",
    "    metadata[\"year\"] = 0\n",
    "    metadata[\"genre\"] = \"...\"\n",
    "\n",
    "    return metadata"
   ]
  },
  {
   "cell_type": "code",
   "execution_count": null,
   "id": "eb6e0ab2-331e-403b-8f88-f40051b21f72",
   "metadata": {},
   "outputs": [],
   "source": [
    "get_metadata(geo_tweets[0].text)"
   ]
  },
  {
   "cell_type": "code",
   "execution_count": null,
   "id": "8d99e754-9e67-4af6-b214-c8a6be95c514",
   "metadata": {},
   "outputs": [],
   "source": [
    "def serialize_tweet(tweet):\n",
    "    geom = get_geom(tweet.geo[\"place_id\"])\n",
    "    username = f\"@{get_username(tweet.author_id)}\"\n",
    "    song_metadata = get_metadata(tweet.text)\n",
    "\n",
    "    tweet = {\n",
    "        \"date\": tweet.created_at.isoformat(),\n",
    "        \"song_metadata\": song_metadata,\n",
    "        \"username\": username,\n",
    "        \"bbox\": geom[\"bbox\"]\n",
    "    }\n",
    "    if \"geometry\" in geom:\n",
    "        tweet[\"point\"] = geom[\"geometry\"]\n",
    "\n",
    "    return tweet"
   ]
  },
  {
   "cell_type": "code",
   "execution_count": null,
   "id": "fd0d1008-8d68-45bb-834f-6e3148055f4b",
   "metadata": {},
   "outputs": [],
   "source": [
    "print(json.dumps(serialize_tweet(geo_tweets[0]), indent=2))"
   ]
  }
 ],
 "metadata": {
  "kernelspec": {
   "display_name": "Python 3 (ipykernel)",
   "language": "python",
   "name": "python3"
  },
  "language_info": {
   "codemirror_mode": {
    "name": "ipython",
    "version": 3
   },
   "file_extension": ".py",
   "mimetype": "text/x-python",
   "name": "python",
   "nbconvert_exporter": "python",
   "pygments_lexer": "ipython3",
   "version": "3.10.4"
  }
 },
 "nbformat": 4,
 "nbformat_minor": 5
}
