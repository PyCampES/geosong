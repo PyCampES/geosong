{
 "cells": [
  {
   "cell_type": "code",
   "execution_count": 1,
   "id": "e4af5f54-8cf8-40f2-b8f1-36e8bb8bf595",
   "metadata": {},
   "outputs": [],
   "source": [
    "import tweepy"
   ]
  },
  {
   "cell_type": "code",
   "execution_count": 2,
   "id": "b0be628f-15d2-42e2-a8ec-f03424f287b2",
   "metadata": {},
   "outputs": [],
   "source": [
    "bearer_token = \"...\""
   ]
  },
  {
   "cell_type": "code",
   "execution_count": 3,
   "id": "5964290d-7e88-4437-833e-651d5a26af4d",
   "metadata": {},
   "outputs": [],
   "source": [
    "auth = tweepy.OAuth2BearerHandler(bearer_token)"
   ]
  },
  {
   "cell_type": "code",
   "execution_count": 4,
   "id": "d3e44c17-2674-451d-96be-defb671a0ab3",
   "metadata": {},
   "outputs": [],
   "source": [
    "client = tweepy.Client(bearer_token=bearer_token)"
   ]
  },
  {
   "cell_type": "code",
   "execution_count": 5,
   "id": "588c48fb-7d70-4138-8bef-9bbacc2469b8",
   "metadata": {},
   "outputs": [],
   "source": [
    "resp = client.search_recent_tweets(\n",
    "    \"I used Shazam\",\n",
    "    max_results=100,\n",
    "    tweet_fields=[\"created_at\", \"geo\"]\n",
    ")"
   ]
  },
  {
   "cell_type": "code",
   "execution_count": 6,
   "id": "d4db0c44-10d9-4e82-9d7c-eb4fa983943c",
   "metadata": {},
   "outputs": [],
   "source": [
    "_t1 = resp.data[1]"
   ]
  },
  {
   "cell_type": "code",
   "execution_count": 7,
   "id": "0d891c2e-5467-4fbf-9652-c1d51c6f745d",
   "metadata": {},
   "outputs": [
    {
     "data": {
      "text/plain": [
       "'I used @Shazam to discover All Eyes On You by Meek Mill Feat. Chris Brown &amp; Nicki Minaj. https://t.co/Z6ogDxeFuj😍'"
      ]
     },
     "execution_count": 7,
     "metadata": {},
     "output_type": "execute_result"
    }
   ],
   "source": [
    "_t1.text"
   ]
  },
  {
   "cell_type": "code",
   "execution_count": 8,
   "id": "c5e3452b-4177-4d46-b282-255d9b5f4612",
   "metadata": {},
   "outputs": [],
   "source": [
    "_t1.geo  # Too bad, it's empty"
   ]
  },
  {
   "cell_type": "code",
   "execution_count": 9,
   "id": "e154a1e3-b374-4185-89f4-65feea395e41",
   "metadata": {},
   "outputs": [
    {
     "data": {
      "text/plain": [
       "datetime.datetime(2022, 4, 15, 17, 32, 31, tzinfo=datetime.timezone.utc)"
      ]
     },
     "execution_count": 9,
     "metadata": {},
     "output_type": "execute_result"
    }
   ],
   "source": [
    "_t1.created_at"
   ]
  },
  {
   "cell_type": "code",
   "execution_count": 10,
   "id": "5c965a1c-aa50-4394-a9dc-31a0f100e75d",
   "metadata": {},
   "outputs": [
    {
     "data": {
      "text/plain": [
       "[<Tweet id=1515017665894653952 text='I used Shazam to discover Experience by Ludovico Einaudi. https://t.co/DcICYX35fH'>,\n",
       " <Tweet id=1514999228258557954 text='I used @Shazam to discover Black Cow by Steely Dan. https://t.co/WoyURM90K5'>]"
      ]
     },
     "execution_count": 10,
     "metadata": {},
     "output_type": "execute_result"
    }
   ],
   "source": [
    "geot = [t for t in resp.data if t.geo]\n",
    "geot"
   ]
  },
  {
   "cell_type": "code",
   "execution_count": 11,
   "id": "b9542695-ca23-4a45-b326-c35b44d04022",
   "metadata": {},
   "outputs": [
    {
     "data": {
      "text/plain": [
       "{'place_id': 'c1430b24da8e9229'}"
      ]
     },
     "execution_count": 11,
     "metadata": {},
     "output_type": "execute_result"
    }
   ],
   "source": [
    "geot[0].geo"
   ]
  }
 ],
 "metadata": {
  "kernelspec": {
   "display_name": "Python 3 (ipykernel)",
   "language": "python",
   "name": "python3"
  },
  "language_info": {
   "codemirror_mode": {
    "name": "ipython",
    "version": 3
   },
   "file_extension": ".py",
   "mimetype": "text/x-python",
   "name": "python",
   "nbconvert_exporter": "python",
   "pygments_lexer": "ipython3",
   "version": "3.10.4"
  }
 },
 "nbformat": 4,
 "nbformat_minor": 5
}
